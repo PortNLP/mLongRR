{
 "cells": [
  {
   "cell_type": "code",
   "execution_count": 408,
   "metadata": {},
   "outputs": [],
   "source": [
    "import pandas as pd\n",
    "from config import api_key_anthropic"
   ]
  },
  {
   "cell_type": "code",
   "execution_count": 409,
   "metadata": {},
   "outputs": [],
   "source": [
    "# !pip install -q anthropic"
   ]
  },
  {
   "cell_type": "code",
   "execution_count": null,
   "metadata": {
    "scrolled": true
   },
   "outputs": [
    {
     "data": {
      "text/html": [
       "<div>\n",
       "<style scoped>\n",
       "    .dataframe tbody tr th:only-of-type {\n",
       "        vertical-align: middle;\n",
       "    }\n",
       "\n",
       "    .dataframe tbody tr th {\n",
       "        vertical-align: top;\n",
       "    }\n",
       "\n",
       "    .dataframe thead th {\n",
       "        text-align: right;\n",
       "    }\n",
       "</style>\n",
       "<table border=\"1\" class=\"dataframe\">\n",
       "  <thead>\n",
       "    <tr style=\"text-align: right;\">\n",
       "      <th></th>\n",
       "      <th>context_length</th>\n",
       "      <th>position</th>\n",
       "      <th>text</th>\n",
       "      <th>city1</th>\n",
       "      <th>label1</th>\n",
       "      <th>city2</th>\n",
       "      <th>label2</th>\n",
       "      <th>city3</th>\n",
       "      <th>label3</th>\n",
       "    </tr>\n",
       "  </thead>\n",
       "  <tbody>\n",
       "    <tr>\n",
       "      <th>0</th>\n",
       "      <td>2k</td>\n",
       "      <td>0</td>\n",
       "      <td>Lambarka gaarka ah ee Copenhagen waa 5537106 ...</td>\n",
       "      <td>Copenhagen</td>\n",
       "      <td>5537106</td>\n",
       "      <td>Belgrade</td>\n",
       "      <td>7359378</td>\n",
       "      <td>Dimishiq</td>\n",
       "      <td>5806219</td>\n",
       "    </tr>\n",
       "    <tr>\n",
       "      <th>1</th>\n",
       "      <td>2k</td>\n",
       "      <td>25</td>\n",
       "      <td>Qaarada Afrika waxaa jira haween kaalin muuqat...</td>\n",
       "      <td>Lisbon</td>\n",
       "      <td>1368888</td>\n",
       "      <td>Copenhagen</td>\n",
       "      <td>9454797</td>\n",
       "      <td>Kampala</td>\n",
       "      <td>7828717</td>\n",
       "    </tr>\n",
       "    <tr>\n",
       "      <th>2</th>\n",
       "      <td>2k</td>\n",
       "      <td>50</td>\n",
       "      <td>Qaarada Afrika waxaa jira haween kaalin muuqat...</td>\n",
       "      <td>Paris</td>\n",
       "      <td>2746006</td>\n",
       "      <td>Seoul</td>\n",
       "      <td>6299468</td>\n",
       "      <td>Magaalada Mexico</td>\n",
       "      <td>9949878</td>\n",
       "    </tr>\n",
       "    <tr>\n",
       "      <th>3</th>\n",
       "      <td>2k</td>\n",
       "      <td>75</td>\n",
       "      <td>Qaarada Afrika waxaa jira haween kaalin muuqat...</td>\n",
       "      <td>Bengaluru</td>\n",
       "      <td>1359065</td>\n",
       "      <td>Thimphu</td>\n",
       "      <td>5516744</td>\n",
       "      <td>Johannesburg</td>\n",
       "      <td>5795163</td>\n",
       "    </tr>\n",
       "    <tr>\n",
       "      <th>4</th>\n",
       "      <td>8k</td>\n",
       "      <td>0</td>\n",
       "      <td>Lambarka gaarka ah ee Almaty waa 8766917 Qaar...</td>\n",
       "      <td>Almaty</td>\n",
       "      <td>8766917</td>\n",
       "      <td>Johannesburg</td>\n",
       "      <td>5143756</td>\n",
       "      <td>Dimishiq</td>\n",
       "      <td>1031477</td>\n",
       "    </tr>\n",
       "    <tr>\n",
       "      <th>5</th>\n",
       "      <td>8k</td>\n",
       "      <td>25</td>\n",
       "      <td>Qaarada Afrika waxaa jira haween kaalin muuqat...</td>\n",
       "      <td>Almaty</td>\n",
       "      <td>4814063</td>\n",
       "      <td>Kigali</td>\n",
       "      <td>5227812</td>\n",
       "      <td>Nairobi</td>\n",
       "      <td>5555003</td>\n",
       "    </tr>\n",
       "    <tr>\n",
       "      <th>6</th>\n",
       "      <td>8k</td>\n",
       "      <td>50</td>\n",
       "      <td>Qaarada Afrika waxaa jira haween kaalin muuqat...</td>\n",
       "      <td>Ho Chi Minh</td>\n",
       "      <td>6136463</td>\n",
       "      <td>Kigali</td>\n",
       "      <td>3011491</td>\n",
       "      <td>Yangon</td>\n",
       "      <td>9140175</td>\n",
       "    </tr>\n",
       "  </tbody>\n",
       "</table>\n",
       "</div>"
      ],
      "text/plain": [
       "  context_length  position                                               text  \\\n",
       "0             2k         0   Lambarka gaarka ah ee Copenhagen waa 5537106 ...   \n",
       "1             2k        25  Qaarada Afrika waxaa jira haween kaalin muuqat...   \n",
       "2             2k        50  Qaarada Afrika waxaa jira haween kaalin muuqat...   \n",
       "3             2k        75  Qaarada Afrika waxaa jira haween kaalin muuqat...   \n",
       "4             8k         0   Lambarka gaarka ah ee Almaty waa 8766917 Qaar...   \n",
       "5             8k        25  Qaarada Afrika waxaa jira haween kaalin muuqat...   \n",
       "6             8k        50  Qaarada Afrika waxaa jira haween kaalin muuqat...   \n",
       "\n",
       "         city1   label1         city2   label2             city3   label3  \n",
       "0   Copenhagen  5537106      Belgrade  7359378          Dimishiq  5806219  \n",
       "1       Lisbon  1368888    Copenhagen  9454797           Kampala  7828717  \n",
       "2        Paris  2746006         Seoul  6299468  Magaalada Mexico  9949878  \n",
       "3    Bengaluru  1359065       Thimphu  5516744      Johannesburg  5795163  \n",
       "4       Almaty  8766917  Johannesburg  5143756          Dimishiq  1031477  \n",
       "5       Almaty  4814063        Kigali  5227812           Nairobi  5555003  \n",
       "6  Ho Chi Minh  6136463        Kigali  3011491            Yangon  9140175  "
      ]
     },
     "execution_count": 532,
     "metadata": {},
     "output_type": "execute_result"
    }
   ],
   "source": [
    "# -------------------- 1-Needle --------------------\n",
    "# dataset_path = \"datasets/Haystack_Needles/Incongruous/1-Needle/mBBC_2024/Claude/Vietnamese_needles.csv\"\n",
    "# dataset_path = \"datasets/Haystack_Needles/Incongruous/1-Needle/mBBC_2024/Claude/Indonesian_needles.csv\"\n",
    "# dataset_path = \"datasets/Haystack_Needles/Incongruous/1-Needle/mBBC_2024/Claude/Somali_needles.csv\"\n",
    "# dataset_path = \"datasets/Haystack_Needles/Incongruous/1-Needle/mBBC_2024/Claude/Swahili_needles.csv\"\n",
    "# dataset_path = \"datasets/Haystack_Needles/Incongruous/1-Needle/mBBC_2024/Claude/Azeri_needles.csv\"\n",
    "\n",
    "# -------------------- 2-Needles --------------------\n",
    "# dataset_path = \"datasets/Haystack_Needles/Incongruous/2-Needles/Claude/English_needles.csv\"\n",
    "# dataset_path = \"datasets/Haystack_Needles/Incongruous/2-Needles/Claude/Vietnamese_needles.csv\"\n",
    "# dataset_path = \"datasets/Haystack_Needles/Incongruous/2-Needles/Claude/Indonesian_needles.csv\"\n",
    "# dataset_path = \"datasets/Haystack_Needles/Incongruous/2-Needles/Claude/Swahili_needles.csv\"\n",
    "# dataset_path = \"datasets/Haystack_Needles/Incongruous/2-Needles/Claude/Somali_needles.csv\"\n",
    "\n",
    "# -------------------- 3-Needles --------------------\n",
    "# dataset_path = \"datasets/Haystack_Needles/Incongruous/3-Needles/Claude/English_needles.csv\"\n",
    "# dataset_path = \"datasets/Haystack_Needles/Incongruous/3-Needles/Claude/Vietnamese_needles.csv\"\n",
    "# dataset_path = \"datasets/Haystack_Needles/Incongruous/3-Needles/Claude/Indonesian_needles.csv\"\n",
    "# dataset_path = \"datasets/Haystack_Needles/Incongruous/3-Needles/Claude/Swahili_needles.csv\"\n",
    "dataset_path = \"datasets/Haystack_Needles/Incongruous/3-Needles/Claude/Somali_needles.csv\"\n",
    "\n",
    "eng_needles = pd.read_csv(dataset_path)\n",
    "eng_needles.head(7)"
   ]
  },
  {
   "cell_type": "code",
   "execution_count": 533,
   "metadata": {},
   "outputs": [],
   "source": [
    "import anthropic\n",
    "\n",
    "API_KEY = api_key_anthropic\n",
    "client = anthropic.Anthropic(\n",
    "    api_key = API_KEY\n",
    ")"
   ]
  },
  {
   "cell_type": "markdown",
   "metadata": {
    "jp-MarkdownHeadingCollapsed": true
   },
   "source": [
    "## 1-Needle"
   ]
  },
  {
   "cell_type": "code",
   "execution_count": 311,
   "metadata": {
    "scrolled": true
   },
   "outputs": [],
   "source": [
    "model_name = \"claude-3-sonnet-20240229\"\n",
    "generated_text_8 = []\n",
    "max_tokens = 50\n",
    "\n",
    "\n",
    "for text in eng_needles[\"text\"][24:]:\n",
    "    # prompt = f\"{text}\\nHere is the magic number:\"\n",
    "    prompt = f'''\n",
    "        You are a helpful AI bot that answers questions for a user. Keep your response short and direct.\n",
    "        The following is a set of context and a question that will relate to the context. \n",
    "        #CONTEXT\n",
    "        {text}\n",
    "        #ENDCONTEXT\n",
    "        \n",
    "        #QUESTION\n",
    "        What is the special magic {{}} number? Don't give information outside the document or repeat your findings. If the\n",
    "        information is not available in the context respond UNANSWERABLE.\n",
    "        '''\n",
    "    \n",
    "    response = client.messages.create(\n",
    "        model=model_name,\n",
    "        max_tokens=max_tokens,\n",
    "        # temperature=0.0,\n",
    "        # system=\"Respond only in Yoda-speak.\",\n",
    "        messages=[\n",
    "            {\"role\": \"user\", \"content\": prompt}\n",
    "        ]\n",
    "    )\n",
    "\n",
    "    generated_text_8.append(response.content[0].text)"
   ]
  },
  {
   "cell_type": "code",
   "execution_count": 312,
   "metadata": {},
   "outputs": [
    {
     "data": {
      "text/plain": [
       "(12, 4, 2, 2, 1, 1, 2, 1)"
      ]
     },
     "execution_count": 312,
     "metadata": {},
     "output_type": "execute_result"
    }
   ],
   "source": [
    "len(generated_text_1), len(generated_text_2), len(generated_text_3), len(generated_text_4), len(generated_text_5), len(generated_text_6), len(generated_text_7), len(generated_text_8)"
   ]
  },
  {
   "cell_type": "code",
   "execution_count": null,
   "metadata": {
    "scrolled": true
   },
   "outputs": [],
   "source": []
  },
  {
   "cell_type": "code",
   "execution_count": 313,
   "metadata": {},
   "outputs": [
    {
     "data": {
      "text/plain": [
       "25"
      ]
     },
     "execution_count": 313,
     "metadata": {},
     "output_type": "execute_result"
    }
   ],
   "source": [
    "generated_text = generated_text_1 + generated_text_2 + generated_text_3 + generated_text_4 + generated_text_5 + generated_text_6 + generated_text_7 + generated_text_8\n",
    "len(generated_text)"
   ]
  },
  {
   "cell_type": "code",
   "execution_count": null,
   "metadata": {},
   "outputs": [],
   "source": []
  },
  {
   "cell_type": "code",
   "execution_count": 314,
   "metadata": {},
   "outputs": [],
   "source": [
    "# Evalutaion\n",
    "\n",
    "haystack_lang = \"aze\"\n",
    "prompt_lang = \"eng\"\n",
    "\n",
    "def check_label(row):\n",
    "    if str(row['label']) in row['generated_text']:\n",
    "        return 1\n",
    "    else:\n",
    "        return 0\n",
    "\n",
    "eng_needles['generated_text'] = generated_text\n",
    "eng_needles['found'] = eng_needles.apply(check_label, axis=1)\n",
    "eng_needles.to_csv(f\"outputs/Incongruous/1-Needle/mBBC_2024/Claude/claude-3_{haystack_lang}_{prompt_lang}_fixed.csv\", index=False)"
   ]
  },
  {
   "cell_type": "code",
   "execution_count": null,
   "metadata": {},
   "outputs": [],
   "source": []
  },
  {
   "cell_type": "code",
   "execution_count": null,
   "metadata": {},
   "outputs": [],
   "source": []
  },
  {
   "cell_type": "code",
   "execution_count": null,
   "metadata": {},
   "outputs": [],
   "source": []
  },
  {
   "cell_type": "code",
   "execution_count": null,
   "metadata": {},
   "outputs": [],
   "source": []
  },
  {
   "cell_type": "markdown",
   "metadata": {
    "jp-MarkdownHeadingCollapsed": true
   },
   "source": [
    "## 2-Needle"
   ]
  },
  {
   "cell_type": "code",
   "execution_count": 486,
   "metadata": {},
   "outputs": [],
   "source": [
    "model_name = \"claude-3-sonnet-20240229\"\n",
    "generated_text_2 = []\n",
    "max_tokens = 20\n",
    "\n",
    "for text in eng_needles[\"text\"][10:]:\n",
    "    prompt = f'''You are a helpful AI bot that answers questions for a user. Keep your response short and direct.\n",
    "The following is a set of context and a question that will relate to the context. \n",
    "#CONTEXT\n",
    "{text}\n",
    "#ENDCONTEXT\n",
    "\n",
    "#QUESTION\n",
    "What is the larger magic number? Don't give information outside the document or repeat your findings. \n",
    "If the information is not available in the context respond UNANSWERABLE.\n",
    "'''\n",
    "    \n",
    "    response = client.messages.create(\n",
    "        model=model_name,\n",
    "        max_tokens=max_tokens,\n",
    "        messages=[\n",
    "            {\"role\": \"user\", \"content\": prompt}\n",
    "        ]\n",
    "    )\n",
    "\n",
    "    generated_text_2.append(response.content[0].text)"
   ]
  },
  {
   "cell_type": "code",
   "execution_count": 487,
   "metadata": {},
   "outputs": [
    {
     "data": {
      "text/plain": [
       "20"
      ]
     },
     "execution_count": 487,
     "metadata": {},
     "output_type": "execute_result"
    }
   ],
   "source": [
    "generated_text_ori = generated_text_1 + generated_text_2\n",
    "len(generated_text_ori)"
   ]
  },
  {
   "cell_type": "code",
   "execution_count": null,
   "metadata": {},
   "outputs": [],
   "source": []
  },
  {
   "cell_type": "code",
   "execution_count": 488,
   "metadata": {},
   "outputs": [],
   "source": [
    "def evaluate_2needle_v2(df):    \n",
    "    df['bigger_label'] = df.apply(lambda row: row['label1'] if row['label1'] > row['label2'] else row['label2'], axis=1)\n",
    "    df['found'] = df['bigger_label'].astype(str).apply(lambda x: df['generated_text'].str.contains(x).any()).astype(int)\n",
    "    return df"
   ]
  },
  {
   "cell_type": "code",
   "execution_count": 489,
   "metadata": {},
   "outputs": [
    {
     "data": {
      "text/html": [
       "<div>\n",
       "<style scoped>\n",
       "    .dataframe tbody tr th:only-of-type {\n",
       "        vertical-align: middle;\n",
       "    }\n",
       "\n",
       "    .dataframe tbody tr th {\n",
       "        vertical-align: top;\n",
       "    }\n",
       "\n",
       "    .dataframe thead th {\n",
       "        text-align: right;\n",
       "    }\n",
       "</style>\n",
       "<table border=\"1\" class=\"dataframe\">\n",
       "  <thead>\n",
       "    <tr style=\"text-align: right;\">\n",
       "      <th></th>\n",
       "      <th>context_length</th>\n",
       "      <th>position</th>\n",
       "      <th>text</th>\n",
       "      <th>city1</th>\n",
       "      <th>label1</th>\n",
       "      <th>city2</th>\n",
       "      <th>label2</th>\n",
       "      <th>generated_text</th>\n",
       "      <th>bigger_label</th>\n",
       "      <th>found</th>\n",
       "    </tr>\n",
       "  </thead>\n",
       "  <tbody>\n",
       "    <tr>\n",
       "      <th>0</th>\n",
       "      <td>2k</td>\n",
       "      <td>0</td>\n",
       "      <td>Lambarka gaarka ah ee Melbourne waa 6320879  ...</td>\n",
       "      <td>Melbourne</td>\n",
       "      <td>6320879</td>\n",
       "      <td>Colombo</td>\n",
       "      <td>8973756</td>\n",
       "      <td>UNANSWERABLE</td>\n",
       "      <td>8973756</td>\n",
       "      <td>0</td>\n",
       "    </tr>\n",
       "    <tr>\n",
       "      <th>1</th>\n",
       "      <td>2k</td>\n",
       "      <td>25</td>\n",
       "      <td>Qaarada Afrika waxaa jira haween kaalin muuqat...</td>\n",
       "      <td>Istanbul</td>\n",
       "      <td>9153537</td>\n",
       "      <td>Paris</td>\n",
       "      <td>7852531</td>\n",
       "      <td>UNANSWERABLE</td>\n",
       "      <td>9153537</td>\n",
       "      <td>0</td>\n",
       "    </tr>\n",
       "    <tr>\n",
       "      <th>2</th>\n",
       "      <td>2k</td>\n",
       "      <td>50</td>\n",
       "      <td>Qaarada Afrika waxaa jira haween kaalin muuqat...</td>\n",
       "      <td>Nairobi</td>\n",
       "      <td>1018761</td>\n",
       "      <td>Rabat</td>\n",
       "      <td>2184116</td>\n",
       "      <td>UNANSWERABLE</td>\n",
       "      <td>2184116</td>\n",
       "      <td>0</td>\n",
       "    </tr>\n",
       "    <tr>\n",
       "      <th>3</th>\n",
       "      <td>2k</td>\n",
       "      <td>75</td>\n",
       "      <td>Qaarada Afrika waxaa jira haween kaalin muuqat...</td>\n",
       "      <td>Bratislava</td>\n",
       "      <td>8537246</td>\n",
       "      <td>Tokyo</td>\n",
       "      <td>8240005</td>\n",
       "      <td>UNANSWERABLE</td>\n",
       "      <td>8537246</td>\n",
       "      <td>0</td>\n",
       "    </tr>\n",
       "    <tr>\n",
       "      <th>4</th>\n",
       "      <td>8k</td>\n",
       "      <td>0</td>\n",
       "      <td>Lambarka gaarka ah ee Ho Chi Minh waa 7610479...</td>\n",
       "      <td>Ho Chi Minh</td>\n",
       "      <td>7610479</td>\n",
       "      <td>Tashkent</td>\n",
       "      <td>2224825</td>\n",
       "      <td>The context does not provide any information a...</td>\n",
       "      <td>7610479</td>\n",
       "      <td>0</td>\n",
       "    </tr>\n",
       "  </tbody>\n",
       "</table>\n",
       "</div>"
      ],
      "text/plain": [
       "  context_length  position                                               text  \\\n",
       "0             2k         0   Lambarka gaarka ah ee Melbourne waa 6320879  ...   \n",
       "1             2k        25  Qaarada Afrika waxaa jira haween kaalin muuqat...   \n",
       "2             2k        50  Qaarada Afrika waxaa jira haween kaalin muuqat...   \n",
       "3             2k        75  Qaarada Afrika waxaa jira haween kaalin muuqat...   \n",
       "4             8k         0   Lambarka gaarka ah ee Ho Chi Minh waa 7610479...   \n",
       "\n",
       "         city1   label1     city2   label2  \\\n",
       "0    Melbourne  6320879   Colombo  8973756   \n",
       "1     Istanbul  9153537     Paris  7852531   \n",
       "2      Nairobi  1018761     Rabat  2184116   \n",
       "3   Bratislava  8537246     Tokyo  8240005   \n",
       "4  Ho Chi Minh  7610479  Tashkent  2224825   \n",
       "\n",
       "                                      generated_text  bigger_label  found  \n",
       "0                                       UNANSWERABLE       8973756      0  \n",
       "1                                       UNANSWERABLE       9153537      0  \n",
       "2                                       UNANSWERABLE       2184116      0  \n",
       "3                                       UNANSWERABLE       8537246      0  \n",
       "4  The context does not provide any information a...       7610479      0  "
      ]
     },
     "execution_count": 489,
     "metadata": {},
     "output_type": "execute_result"
    }
   ],
   "source": [
    "haystack_lang = \"eng\"\n",
    "prompt_lang = \"som\"\n",
    "\n",
    "# eng_needles = pd.read_csv(f\"outputs/Incongruous/2-Needles/mBBC_2024/Claude/claude_3_sonnet_{haystack_lang}.csv\")\n",
    "eng_needles['generated_text'] = generated_text_ori\n",
    "\n",
    "eng_needles = evaluate_2needle_v2(eng_needles)\n",
    "eng_needles.to_csv(f\"outputs/Incongruous/2-Needles/mBBC_2024/Claude/claude_3_sonnet_{haystack_lang}_{prompt_lang}_number.csv\", index=False)\n",
    "eng_needles.head()"
   ]
  },
  {
   "cell_type": "code",
   "execution_count": null,
   "metadata": {},
   "outputs": [],
   "source": []
  },
  {
   "cell_type": "markdown",
   "metadata": {},
   "source": [
    "## 3-Needle"
   ]
  },
  {
   "cell_type": "code",
   "execution_count": 536,
   "metadata": {},
   "outputs": [],
   "source": [
    "model_name = \"claude-3-sonnet-20240229\"\n",
    "generated_text_2 = []\n",
    "max_tokens = 20\n",
    "\n",
    "for text in eng_needles[\"text\"][13:]:\n",
    "    prompt = f'''You are a helpful AI bot that answers questions for a user. Keep your response short and direct.\n",
    "The following is a set of context and a question that will relate to the context. \n",
    "#CONTEXT\n",
    "{text}\n",
    "#ENDCONTEXT\n",
    "\n",
    "#QUESTION\n",
    "What is the largest magic number? Don't give information outside the document or repeat your findings. \n",
    "If the information is not available in the context respond UNANSWERABLE.\n",
    "'''\n",
    "    \n",
    "    response = client.messages.create(\n",
    "        model=model_name,\n",
    "        max_tokens=max_tokens,\n",
    "        messages=[\n",
    "            {\"role\": \"user\", \"content\": prompt}\n",
    "        ]\n",
    "    )\n",
    "\n",
    "    generated_text_2.append(response.content[0].text)"
   ]
  },
  {
   "cell_type": "code",
   "execution_count": 537,
   "metadata": {},
   "outputs": [
    {
     "data": {
      "text/plain": [
       "20"
      ]
     },
     "execution_count": 537,
     "metadata": {},
     "output_type": "execute_result"
    }
   ],
   "source": [
    "generated_text_ori = generated_text_1 + generated_text_2\n",
    "len(generated_text_ori)"
   ]
  },
  {
   "cell_type": "code",
   "execution_count": null,
   "metadata": {},
   "outputs": [],
   "source": []
  },
  {
   "cell_type": "code",
   "execution_count": 538,
   "metadata": {},
   "outputs": [],
   "source": [
    "def evaluate_3needle_v2(df):    \n",
    "    df['bigger_label'] = df.apply(lambda row: row['label1'] if row['label1'] > row['label2'] else row['label2'], axis=1)\n",
    "    df['found'] = df['bigger_label'].astype(str).apply(lambda x: df['generated_text'].str.contains(x).any()).astype(int)\n",
    "    return df"
   ]
  },
  {
   "cell_type": "code",
   "execution_count": 539,
   "metadata": {},
   "outputs": [
    {
     "data": {
      "text/html": [
       "<div>\n",
       "<style scoped>\n",
       "    .dataframe tbody tr th:only-of-type {\n",
       "        vertical-align: middle;\n",
       "    }\n",
       "\n",
       "    .dataframe tbody tr th {\n",
       "        vertical-align: top;\n",
       "    }\n",
       "\n",
       "    .dataframe thead th {\n",
       "        text-align: right;\n",
       "    }\n",
       "</style>\n",
       "<table border=\"1\" class=\"dataframe\">\n",
       "  <thead>\n",
       "    <tr style=\"text-align: right;\">\n",
       "      <th></th>\n",
       "      <th>context_length</th>\n",
       "      <th>position</th>\n",
       "      <th>text</th>\n",
       "      <th>city1</th>\n",
       "      <th>label1</th>\n",
       "      <th>city2</th>\n",
       "      <th>label2</th>\n",
       "      <th>city3</th>\n",
       "      <th>label3</th>\n",
       "      <th>generated_text</th>\n",
       "      <th>bigger_label</th>\n",
       "      <th>found</th>\n",
       "    </tr>\n",
       "  </thead>\n",
       "  <tbody>\n",
       "    <tr>\n",
       "      <th>0</th>\n",
       "      <td>2k</td>\n",
       "      <td>0</td>\n",
       "      <td>Lambarka gaarka ah ee Copenhagen waa 5537106 ...</td>\n",
       "      <td>Copenhagen</td>\n",
       "      <td>5537106</td>\n",
       "      <td>Belgrade</td>\n",
       "      <td>7359378</td>\n",
       "      <td>Dimishiq</td>\n",
       "      <td>5806219</td>\n",
       "      <td>UNANSWERABLE</td>\n",
       "      <td>7359378</td>\n",
       "      <td>0</td>\n",
       "    </tr>\n",
       "    <tr>\n",
       "      <th>1</th>\n",
       "      <td>2k</td>\n",
       "      <td>25</td>\n",
       "      <td>Qaarada Afrika waxaa jira haween kaalin muuqat...</td>\n",
       "      <td>Lisbon</td>\n",
       "      <td>1368888</td>\n",
       "      <td>Copenhagen</td>\n",
       "      <td>9454797</td>\n",
       "      <td>Kampala</td>\n",
       "      <td>7828717</td>\n",
       "      <td>UNANSWERABLE</td>\n",
       "      <td>9454797</td>\n",
       "      <td>0</td>\n",
       "    </tr>\n",
       "    <tr>\n",
       "      <th>2</th>\n",
       "      <td>2k</td>\n",
       "      <td>50</td>\n",
       "      <td>Qaarada Afrika waxaa jira haween kaalin muuqat...</td>\n",
       "      <td>Paris</td>\n",
       "      <td>2746006</td>\n",
       "      <td>Seoul</td>\n",
       "      <td>6299468</td>\n",
       "      <td>Magaalada Mexico</td>\n",
       "      <td>9949878</td>\n",
       "      <td>UNANSWERABLE</td>\n",
       "      <td>6299468</td>\n",
       "      <td>0</td>\n",
       "    </tr>\n",
       "    <tr>\n",
       "      <th>3</th>\n",
       "      <td>2k</td>\n",
       "      <td>75</td>\n",
       "      <td>Qaarada Afrika waxaa jira haween kaalin muuqat...</td>\n",
       "      <td>Bengaluru</td>\n",
       "      <td>1359065</td>\n",
       "      <td>Thimphu</td>\n",
       "      <td>5516744</td>\n",
       "      <td>Johannesburg</td>\n",
       "      <td>5795163</td>\n",
       "      <td>UNANSWERABLE</td>\n",
       "      <td>5516744</td>\n",
       "      <td>0</td>\n",
       "    </tr>\n",
       "    <tr>\n",
       "      <th>4</th>\n",
       "      <td>8k</td>\n",
       "      <td>0</td>\n",
       "      <td>Lambarka gaarka ah ee Almaty waa 8766917 Qaar...</td>\n",
       "      <td>Almaty</td>\n",
       "      <td>8766917</td>\n",
       "      <td>Johannesburg</td>\n",
       "      <td>5143756</td>\n",
       "      <td>Dimishiq</td>\n",
       "      <td>1031477</td>\n",
       "      <td>The context does not mention any \"largest magi...</td>\n",
       "      <td>8766917</td>\n",
       "      <td>0</td>\n",
       "    </tr>\n",
       "  </tbody>\n",
       "</table>\n",
       "</div>"
      ],
      "text/plain": [
       "  context_length  position                                               text  \\\n",
       "0             2k         0   Lambarka gaarka ah ee Copenhagen waa 5537106 ...   \n",
       "1             2k        25  Qaarada Afrika waxaa jira haween kaalin muuqat...   \n",
       "2             2k        50  Qaarada Afrika waxaa jira haween kaalin muuqat...   \n",
       "3             2k        75  Qaarada Afrika waxaa jira haween kaalin muuqat...   \n",
       "4             8k         0   Lambarka gaarka ah ee Almaty waa 8766917 Qaar...   \n",
       "\n",
       "        city1   label1         city2   label2             city3   label3  \\\n",
       "0  Copenhagen  5537106      Belgrade  7359378          Dimishiq  5806219   \n",
       "1      Lisbon  1368888    Copenhagen  9454797           Kampala  7828717   \n",
       "2       Paris  2746006         Seoul  6299468  Magaalada Mexico  9949878   \n",
       "3   Bengaluru  1359065       Thimphu  5516744      Johannesburg  5795163   \n",
       "4      Almaty  8766917  Johannesburg  5143756          Dimishiq  1031477   \n",
       "\n",
       "                                      generated_text  bigger_label  found  \n",
       "0                                       UNANSWERABLE       7359378      0  \n",
       "1                                       UNANSWERABLE       9454797      0  \n",
       "2                                       UNANSWERABLE       6299468      0  \n",
       "3                                       UNANSWERABLE       5516744      0  \n",
       "4  The context does not mention any \"largest magi...       8766917      0  "
      ]
     },
     "execution_count": 539,
     "metadata": {},
     "output_type": "execute_result"
    }
   ],
   "source": [
    "haystack_lang = \"som\"\n",
    "prompt_lang = \"eng\"\n",
    "\n",
    "eng_needles['generated_text'] = generated_text_ori\n",
    "\n",
    "eng_needles = evaluate_2needle_v2(eng_needles)\n",
    "eng_needles.to_csv(f\"outputs/Incongruous/3-Needles/mBBC_2024/Claude/claude_3_sonnet_{haystack_lang}_{prompt_lang}_number.csv\", index=False)\n",
    "eng_needles.head()"
   ]
  },
  {
   "cell_type": "code",
   "execution_count": null,
   "metadata": {},
   "outputs": [],
   "source": []
  },
  {
   "cell_type": "code",
   "execution_count": null,
   "metadata": {},
   "outputs": [],
   "source": []
  }
 ],
 "metadata": {
  "kernelspec": {
   "display_name": "venv",
   "language": "python",
   "name": "venv"
  },
  "language_info": {
   "codemirror_mode": {
    "name": "ipython",
    "version": 3
   },
   "file_extension": ".py",
   "mimetype": "text/x-python",
   "name": "python",
   "nbconvert_exporter": "python",
   "pygments_lexer": "ipython3",
   "version": "3.9.6"
  }
 },
 "nbformat": 4,
 "nbformat_minor": 4
}
